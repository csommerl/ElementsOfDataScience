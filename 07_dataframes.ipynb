{
 "cells": [
  {
   "attachments": {},
   "cell_type": "markdown",
   "metadata": {},
   "source": [
    "# DataFrames and Series"
   ]
  },
  {
   "attachments": {},
   "cell_type": "markdown",
   "metadata": {
    "tags": []
   },
   "source": [
    "[Click here to run this notebook on Colab](https://colab.research.google.com/github/AllenDowney/ElementsOfDataScience/blob/master/07_dataframes.ipynb) or\n",
    "[click here to download it](https://github.com/AllenDowney/ElementsOfDataScience/raw/master/07_dataframes.ipynb)."
   ]
  },
  {
   "attachments": {},
   "cell_type": "markdown",
   "metadata": {},
   "source": [
    "This chapter introduces Pandas, a Python library that provides functions for reading and writing data files, exploring and analyzing data, and generating visualizations.  And it provides two new types for working with data, `DataFrame` and `Series`.\n",
    "\n",
    "We will use these tools to answer a data question: what is the average birth weight of babies in the United States?\n",
    "This example will demonstrate important steps in almost any data science project:\n",
    "\n",
    "1. Identifying data that can answer a question.\n",
    "\n",
    "2. Obtaining the data and loading it in Python.\n",
    "\n",
    "3. Checking the data and dealing with errors.\n",
    "\n",
    "4. Selecting relevant subsets from the data.\n",
    "\n",
    "5. Using histograms to visualize a distribution of values.\n",
    "\n",
    "6. Using summary statistics to describe the data in a way that best answers the question.\n",
    "\n",
    "7. Considering possible sources of error and limitations in our conclusions.\n",
    "\n",
    "Let's start by getting the data."
   ]
  },
  {
   "attachments": {},
   "cell_type": "markdown",
   "metadata": {},
   "source": [
    "## Reading the Data\n",
    "\n",
    "We'll use data from the National Survey of Family Growth (NSFG), which is available from the National Center for Health Statistics at <https://www.cdc.gov/nchs/nsfg/index.htm>.\n",
    "\n",
    "To download the data, you have to agree to the Data User's Agreement at <https://www.cdc.gov/nchs/data_access/ftp_dua.htm>.\n",
    "You should read those terms carefully, but let me draw your attention to what I think is the most important one:\n",
    "\n",
    "> Make no attempt to learn the identity of any person or establishment included in these data.\n",
    "\n",
    "NSFG respondents provide honest answers to questions of the most personal nature with the expectation that their identities will not be revealed.\n",
    "As ethical data scientists, we should respect their privacy and adhere to the terms of use."
   ]
  },
  {
   "attachments": {},
   "cell_type": "markdown",
   "metadata": {},
   "source": [
    "Respondents to the NSFG provide general information about themselves, which is stored in the respondent file, and information about each time they have been pregnant, which is stored in the pregnancy file.\n",
    "\n",
    "We will work with the pregnancy file, which contains one row for each pregnancy and one column for each of the 248 variables.\n",
    "Each variable represents responses to a question on the NSFG questionnaire."
   ]
  },
  {
   "attachments": {},
   "cell_type": "markdown",
   "metadata": {},
   "source": [
    "The data is stored in a fixed-width format, which means that every row is the same length and each variable spans a fixed range of characters (see <https://www.ibm.com/docs/en/baw/19.x?topic=formats-fixed-width-format>). For example, the first six characters in each row represent a variable called `CASEID`, which is a unique identifier for each respondent; the next two characters represent `PREGORDR`, which indicates whether a pregnancy is the respondent's first, second, etc.\n",
    "\n",
    "To read this data, we need a **data dictionary**, which specifies the names of the variables and the range of characters where each variable appears. The data and the data dictionary are available in separate files."
   ]
  },
  {
   "cell_type": "code",
   "execution_count": 45,
   "metadata": {},
   "outputs": [],
   "source": [
    "dict_file = '2015_2017_FemPregSetup.dct'\n",
    "data_file = '2015_2017_FemPregData.dat'"
   ]
  },
  {
   "attachments": {},
   "cell_type": "markdown",
   "metadata": {
    "tags": []
   },
   "source": [
    "Once you have agreed to the terms, you can use the following cells to download the data."
   ]
  },
  {
   "cell_type": "code",
   "execution_count": 46,
   "metadata": {
    "tags": []
   },
   "outputs": [],
   "source": [
    "from os.path import basename, exists\n",
    "\n",
    "def download(url):\n",
    "    filename = basename(url)\n",
    "    if not exists(filename):\n",
    "        from urllib.request import urlretrieve\n",
    "        local, _ = urlretrieve(url, filename)\n",
    "        print('Downloaded ' + local)"
   ]
  },
  {
   "cell_type": "code",
   "execution_count": 47,
   "metadata": {
    "tags": []
   },
   "outputs": [],
   "source": [
    "download('https://ftp.cdc.gov/pub/health_statistics/nchs/' +\n",
    "         'datasets/NSFG/stata/' + dict_file)"
   ]
  },
  {
   "cell_type": "code",
   "execution_count": 48,
   "metadata": {
    "tags": []
   },
   "outputs": [],
   "source": [
    "download('https://ftp.cdc.gov/pub/health_statistics/nchs/' +\n",
    "         'datasets/NSFG/' + data_file)"
   ]
  },
  {
   "attachments": {},
   "cell_type": "markdown",
   "metadata": {},
   "source": [
    "Pandas can read data in most common formats, including CSV, Excel, and fixed-width format, but it cannot read the data dictionary, which is in Stata format.\n",
    "For that, we'll use a Python library called `statadict`."
   ]
  },
  {
   "attachments": {},
   "cell_type": "markdown",
   "metadata": {
    "tags": []
   },
   "source": [
    "The following cell installs `statadict` if necessary."
   ]
  },
  {
   "cell_type": "code",
   "execution_count": 49,
   "metadata": {
    "tags": []
   },
   "outputs": [],
   "source": [
    "try:\n",
    "    from statadict import parse_stata_dict\n",
    "except ImportError:\n",
    "    !pip install statadict"
   ]
  },
  {
   "attachments": {},
   "cell_type": "markdown",
   "metadata": {},
   "source": [
    "From `statadict`, we'll import `parse_stata_dict`, which reads the data dictionary."
   ]
  },
  {
   "cell_type": "code",
   "execution_count": 50,
   "metadata": {},
   "outputs": [
    {
     "data": {
      "text/plain": [
       "<statadict.base.StataDict at 0x7fbaef65e100>"
      ]
     },
     "execution_count": 50,
     "metadata": {},
     "output_type": "execute_result"
    }
   ],
   "source": [
    "from statadict import parse_stata_dict\n",
    "\n",
    "stata_dict = parse_stata_dict(dict_file)\n",
    "stata_dict"
   ]
  },
  {
   "attachments": {},
   "cell_type": "markdown",
   "metadata": {},
   "source": [
    "The result is an object that contains\n",
    "\n",
    "* `names`, which is a list of variable names, and\n",
    "\n",
    "* `colspecs`, which is a list of tuples.\n",
    "\n",
    "Each tuple in `colspecs` specifies the first and last column where a variable appears.\n",
    "\n",
    "These values are exactly the arguments we need to use `read_fwf`, which is the Pandas function that reads a file in fixed-width format."
   ]
  },
  {
   "cell_type": "code",
   "execution_count": 51,
   "metadata": {},
   "outputs": [
    {
     "data": {
      "text/plain": [
       "pandas.core.frame.DataFrame"
      ]
     },
     "execution_count": 51,
     "metadata": {},
     "output_type": "execute_result"
    }
   ],
   "source": [
    "import pandas as pd\n",
    "\n",
    "nsfg = pd.read_fwf(data_file, \n",
    "                   names=stata_dict.names, \n",
    "                   colspecs=stata_dict.colspecs)\n",
    "type(nsfg)"
   ]
  },
  {
   "attachments": {},
   "cell_type": "markdown",
   "metadata": {},
   "source": [
    "The result from `read_fwf()` is a `DataFrame`, which is the primary type Pandas uses to store data.\n",
    "`DataFrame` has a method called `head()` that shows the first 5 rows:"
   ]
  },
  {
   "cell_type": "code",
   "execution_count": 52,
   "metadata": {
    "tags": []
   },
   "outputs": [
    {
     "data": {
      "text/html": [
       "<div>\n",
       "<style scoped>\n",
       "    .dataframe tbody tr th:only-of-type {\n",
       "        vertical-align: middle;\n",
       "    }\n",
       "\n",
       "    .dataframe tbody tr th {\n",
       "        vertical-align: top;\n",
       "    }\n",
       "\n",
       "    .dataframe thead th {\n",
       "        text-align: right;\n",
       "    }\n",
       "</style>\n",
       "<table border=\"1\" class=\"dataframe\">\n",
       "  <thead>\n",
       "    <tr style=\"text-align: right;\">\n",
       "      <th></th>\n",
       "      <th>CASEID</th>\n",
       "      <th>PREGORDR</th>\n",
       "      <th>HOWPREG_N</th>\n",
       "      <th>HOWPREG_P</th>\n",
       "      <th>MOSCURRP</th>\n",
       "      <th>NOWPRGDK</th>\n",
       "      <th>PREGEND1</th>\n",
       "      <th>PREGEND2</th>\n",
       "      <th>HOWENDDK</th>\n",
       "      <th>NBRNALIV</th>\n",
       "      <th>...</th>\n",
       "      <th>SECU</th>\n",
       "      <th>SEST</th>\n",
       "      <th>CMINTVW</th>\n",
       "      <th>CMLSTYR</th>\n",
       "      <th>CMJAN3YR</th>\n",
       "      <th>CMJAN4YR</th>\n",
       "      <th>CMJAN5YR</th>\n",
       "      <th>QUARTER</th>\n",
       "      <th>PHASE</th>\n",
       "      <th>INTVWYEAR</th>\n",
       "    </tr>\n",
       "  </thead>\n",
       "  <tbody>\n",
       "    <tr>\n",
       "      <th>0</th>\n",
       "      <td>70627</td>\n",
       "      <td>1</td>\n",
       "      <td>NaN</td>\n",
       "      <td>NaN</td>\n",
       "      <td>NaN</td>\n",
       "      <td>NaN</td>\n",
       "      <td>6.0</td>\n",
       "      <td>NaN</td>\n",
       "      <td>NaN</td>\n",
       "      <td>1.0</td>\n",
       "      <td>...</td>\n",
       "      <td>3</td>\n",
       "      <td>322</td>\n",
       "      <td>1394</td>\n",
       "      <td>1382</td>\n",
       "      <td>1357</td>\n",
       "      <td>1345</td>\n",
       "      <td>1333</td>\n",
       "      <td>18</td>\n",
       "      <td>1</td>\n",
       "      <td>2016</td>\n",
       "    </tr>\n",
       "    <tr>\n",
       "      <th>1</th>\n",
       "      <td>70627</td>\n",
       "      <td>2</td>\n",
       "      <td>NaN</td>\n",
       "      <td>NaN</td>\n",
       "      <td>NaN</td>\n",
       "      <td>NaN</td>\n",
       "      <td>1.0</td>\n",
       "      <td>NaN</td>\n",
       "      <td>NaN</td>\n",
       "      <td>NaN</td>\n",
       "      <td>...</td>\n",
       "      <td>3</td>\n",
       "      <td>322</td>\n",
       "      <td>1394</td>\n",
       "      <td>1382</td>\n",
       "      <td>1357</td>\n",
       "      <td>1345</td>\n",
       "      <td>1333</td>\n",
       "      <td>18</td>\n",
       "      <td>1</td>\n",
       "      <td>2016</td>\n",
       "    </tr>\n",
       "    <tr>\n",
       "      <th>2</th>\n",
       "      <td>70627</td>\n",
       "      <td>3</td>\n",
       "      <td>NaN</td>\n",
       "      <td>NaN</td>\n",
       "      <td>NaN</td>\n",
       "      <td>NaN</td>\n",
       "      <td>6.0</td>\n",
       "      <td>NaN</td>\n",
       "      <td>NaN</td>\n",
       "      <td>1.0</td>\n",
       "      <td>...</td>\n",
       "      <td>3</td>\n",
       "      <td>322</td>\n",
       "      <td>1394</td>\n",
       "      <td>1382</td>\n",
       "      <td>1357</td>\n",
       "      <td>1345</td>\n",
       "      <td>1333</td>\n",
       "      <td>18</td>\n",
       "      <td>1</td>\n",
       "      <td>2016</td>\n",
       "    </tr>\n",
       "    <tr>\n",
       "      <th>3</th>\n",
       "      <td>70628</td>\n",
       "      <td>1</td>\n",
       "      <td>NaN</td>\n",
       "      <td>NaN</td>\n",
       "      <td>NaN</td>\n",
       "      <td>NaN</td>\n",
       "      <td>6.0</td>\n",
       "      <td>NaN</td>\n",
       "      <td>NaN</td>\n",
       "      <td>1.0</td>\n",
       "      <td>...</td>\n",
       "      <td>2</td>\n",
       "      <td>366</td>\n",
       "      <td>1409</td>\n",
       "      <td>1397</td>\n",
       "      <td>1369</td>\n",
       "      <td>1357</td>\n",
       "      <td>1345</td>\n",
       "      <td>23</td>\n",
       "      <td>1</td>\n",
       "      <td>2017</td>\n",
       "    </tr>\n",
       "    <tr>\n",
       "      <th>4</th>\n",
       "      <td>70628</td>\n",
       "      <td>2</td>\n",
       "      <td>NaN</td>\n",
       "      <td>NaN</td>\n",
       "      <td>NaN</td>\n",
       "      <td>NaN</td>\n",
       "      <td>6.0</td>\n",
       "      <td>NaN</td>\n",
       "      <td>NaN</td>\n",
       "      <td>1.0</td>\n",
       "      <td>...</td>\n",
       "      <td>2</td>\n",
       "      <td>366</td>\n",
       "      <td>1409</td>\n",
       "      <td>1397</td>\n",
       "      <td>1369</td>\n",
       "      <td>1357</td>\n",
       "      <td>1345</td>\n",
       "      <td>23</td>\n",
       "      <td>1</td>\n",
       "      <td>2017</td>\n",
       "    </tr>\n",
       "  </tbody>\n",
       "</table>\n",
       "<p>5 rows × 248 columns</p>\n",
       "</div>"
      ],
      "text/plain": [
       "   CASEID  PREGORDR  HOWPREG_N  HOWPREG_P  MOSCURRP  NOWPRGDK  PREGEND1   \n",
       "0   70627         1        NaN        NaN       NaN       NaN       6.0  \\\n",
       "1   70627         2        NaN        NaN       NaN       NaN       1.0   \n",
       "2   70627         3        NaN        NaN       NaN       NaN       6.0   \n",
       "3   70628         1        NaN        NaN       NaN       NaN       6.0   \n",
       "4   70628         2        NaN        NaN       NaN       NaN       6.0   \n",
       "\n",
       "   PREGEND2  HOWENDDK  NBRNALIV  ...  SECU  SEST  CMINTVW  CMLSTYR  CMJAN3YR   \n",
       "0       NaN       NaN       1.0  ...     3   322     1394     1382      1357  \\\n",
       "1       NaN       NaN       NaN  ...     3   322     1394     1382      1357   \n",
       "2       NaN       NaN       1.0  ...     3   322     1394     1382      1357   \n",
       "3       NaN       NaN       1.0  ...     2   366     1409     1397      1369   \n",
       "4       NaN       NaN       1.0  ...     2   366     1409     1397      1369   \n",
       "\n",
       "   CMJAN4YR  CMJAN5YR  QUARTER  PHASE  INTVWYEAR  \n",
       "0      1345      1333       18      1       2016  \n",
       "1      1345      1333       18      1       2016  \n",
       "2      1345      1333       18      1       2016  \n",
       "3      1357      1345       23      1       2017  \n",
       "4      1357      1345       23      1       2017  \n",
       "\n",
       "[5 rows x 248 columns]"
      ]
     },
     "execution_count": 52,
     "metadata": {},
     "output_type": "execute_result"
    }
   ],
   "source": [
    "nsfg.head()"
   ]
  },
  {
   "cell_type": "code",
   "execution_count": 53,
   "metadata": {
    "tags": []
   },
   "outputs": [],
   "source": [
    "# NOTE: For the printed version of the book, \n",
    "# I'm using iloc to show\n",
    "# the first 5 rows and first 9 columns"
   ]
  },
  {
   "cell_type": "code",
   "execution_count": 54,
   "metadata": {},
   "outputs": [
    {
     "data": {
      "text/html": [
       "<div>\n",
       "<style scoped>\n",
       "    .dataframe tbody tr th:only-of-type {\n",
       "        vertical-align: middle;\n",
       "    }\n",
       "\n",
       "    .dataframe tbody tr th {\n",
       "        vertical-align: top;\n",
       "    }\n",
       "\n",
       "    .dataframe thead th {\n",
       "        text-align: right;\n",
       "    }\n",
       "</style>\n",
       "<table border=\"1\" class=\"dataframe\">\n",
       "  <thead>\n",
       "    <tr style=\"text-align: right;\">\n",
       "      <th></th>\n",
       "      <th>CASEID</th>\n",
       "      <th>PREGORDR</th>\n",
       "      <th>HOWPREG_N</th>\n",
       "      <th>HOWPREG_P</th>\n",
       "      <th>MOSCURRP</th>\n",
       "      <th>NOWPRGDK</th>\n",
       "      <th>PREGEND1</th>\n",
       "    </tr>\n",
       "  </thead>\n",
       "  <tbody>\n",
       "    <tr>\n",
       "      <th>0</th>\n",
       "      <td>70627</td>\n",
       "      <td>1</td>\n",
       "      <td>NaN</td>\n",
       "      <td>NaN</td>\n",
       "      <td>NaN</td>\n",
       "      <td>NaN</td>\n",
       "      <td>6.0</td>\n",
       "    </tr>\n",
       "    <tr>\n",
       "      <th>1</th>\n",
       "      <td>70627</td>\n",
       "      <td>2</td>\n",
       "      <td>NaN</td>\n",
       "      <td>NaN</td>\n",
       "      <td>NaN</td>\n",
       "      <td>NaN</td>\n",
       "      <td>1.0</td>\n",
       "    </tr>\n",
       "    <tr>\n",
       "      <th>2</th>\n",
       "      <td>70627</td>\n",
       "      <td>3</td>\n",
       "      <td>NaN</td>\n",
       "      <td>NaN</td>\n",
       "      <td>NaN</td>\n",
       "      <td>NaN</td>\n",
       "      <td>6.0</td>\n",
       "    </tr>\n",
       "    <tr>\n",
       "      <th>3</th>\n",
       "      <td>70628</td>\n",
       "      <td>1</td>\n",
       "      <td>NaN</td>\n",
       "      <td>NaN</td>\n",
       "      <td>NaN</td>\n",
       "      <td>NaN</td>\n",
       "      <td>6.0</td>\n",
       "    </tr>\n",
       "    <tr>\n",
       "      <th>4</th>\n",
       "      <td>70628</td>\n",
       "      <td>2</td>\n",
       "      <td>NaN</td>\n",
       "      <td>NaN</td>\n",
       "      <td>NaN</td>\n",
       "      <td>NaN</td>\n",
       "      <td>6.0</td>\n",
       "    </tr>\n",
       "  </tbody>\n",
       "</table>\n",
       "</div>"
      ],
      "text/plain": [
       "   CASEID  PREGORDR  HOWPREG_N  HOWPREG_P  MOSCURRP  NOWPRGDK  PREGEND1\n",
       "0   70627         1        NaN        NaN       NaN       NaN       6.0\n",
       "1   70627         2        NaN        NaN       NaN       NaN       1.0\n",
       "2   70627         3        NaN        NaN       NaN       NaN       6.0\n",
       "3   70628         1        NaN        NaN       NaN       NaN       6.0\n",
       "4   70628         2        NaN        NaN       NaN       NaN       6.0"
      ]
     },
     "execution_count": 54,
     "metadata": {},
     "output_type": "execute_result"
    }
   ],
   "source": [
    "nsfg.iloc[:5,:7]"
   ]
  },
  {
   "attachments": {},
   "cell_type": "markdown",
   "metadata": {},
   "source": [
    "The first two columns are is `CASEID` and `PREGORDR`, which I mentioned earlier.\n",
    "The first three rows have the same `CASEID`, so this respondent reported three pregnancies; the values of `PREGORDR` indicate that they are the first, second, and third pregnancies, in that order.\n",
    "\n",
    "We will learn more about the other variables as we go along."
   ]
  },
  {
   "attachments": {},
   "cell_type": "markdown",
   "metadata": {},
   "source": [
    "In addition to methods like `head`, a `Dataframe` object has several **attributes**, which are variables associated with the object.\n",
    "For example, `nsfg` has an attribute called `shape`, which is a tuple containing the number of rows and columns:"
   ]
  },
  {
   "cell_type": "code",
   "execution_count": 55,
   "metadata": {},
   "outputs": [
    {
     "data": {
      "text/plain": [
       "(9553, 248)"
      ]
     },
     "execution_count": 55,
     "metadata": {},
     "output_type": "execute_result"
    }
   ],
   "source": [
    "nsfg.shape"
   ]
  },
  {
   "attachments": {},
   "cell_type": "markdown",
   "metadata": {},
   "source": [
    "There are 9553 rows in this dataset, one for each pregnancy, and 248 columns, one for each variable.\n",
    "\n",
    "`nsfg` also has an attribute called `columns`, which contains the column names:"
   ]
  },
  {
   "cell_type": "code",
   "execution_count": 56,
   "metadata": {},
   "outputs": [
    {
     "data": {
      "text/plain": [
       "Index(['CASEID', 'PREGORDR', 'HOWPREG_N', 'HOWPREG_P', 'MOSCURRP', 'NOWPRGDK',\n",
       "       'PREGEND1', 'PREGEND2', 'HOWENDDK', 'NBRNALIV',\n",
       "       ...\n",
       "       'SECU', 'SEST', 'CMINTVW', 'CMLSTYR', 'CMJAN3YR', 'CMJAN4YR',\n",
       "       'CMJAN5YR', 'QUARTER', 'PHASE', 'INTVWYEAR'],\n",
       "      dtype='object', length=248)"
      ]
     },
     "execution_count": 56,
     "metadata": {},
     "output_type": "execute_result"
    }
   ],
   "source": [
    "nsfg.columns"
   ]
  },
  {
   "attachments": {},
   "cell_type": "markdown",
   "metadata": {},
   "source": [
    "The column names are stored in an `Index`, which is another Pandas type, similar to a list."
   ]
  },
  {
   "cell_type": "code",
   "execution_count": 57,
   "metadata": {
    "tags": []
   },
   "outputs": [
    {
     "data": {
      "text/plain": [
       "pandas.core.indexes.base.Index"
      ]
     },
     "execution_count": 57,
     "metadata": {},
     "output_type": "execute_result"
    }
   ],
   "source": [
    "type(nsfg.columns)"
   ]
  },
  {
   "attachments": {},
   "cell_type": "markdown",
   "metadata": {},
   "source": [
    "Based on the column names, you might be able to guess what some of the variables are, but in general you have to read the documentation."
   ]
  },
  {
   "attachments": {},
   "cell_type": "markdown",
   "metadata": {},
   "source": [
    "When you work with datasets like the NSFG, it is important to read the documentation carefully. If you interpret a variable incorrectly, you can generate nonsense results and never realize it. So, before we start looking at data, let's get familiar with the NSFG codebook, which describes every variable.\n",
    "You can download the codebook for this dataset from <https://github.com/AllenDowney/ElementsOfDataScience/raw/master/data/2015-2017_NSFG_FemPregFile_Codebook-508.pdf>.\n",
    "\n",
    "If you search that document for \"weigh at birth\" you should find these variables related to birth weight.\n",
    "\n",
    "* `BIRTHWGT_LB1`: Birthweight in Pounds - 1st baby from this pregnancy\n",
    "\n",
    "* `BIRTHWGT_OZ1`: Birthweight in Ounces - 1st baby from this pregnancy\n",
    "\n",
    "There are similar variables for a 2nd or 3rd baby, in the case of twins or triplets.\n",
    "For now we will focus on the first baby from each pregnancy, and we will come back to the issue of multiple births."
   ]
  },
  {
   "attachments": {},
   "cell_type": "markdown",
   "metadata": {},
   "source": [
    "## Series\n",
    "\n",
    "In many ways a `DataFrame` is like a Python dictionary, where the column names are the keys and the columns are the values.  You can select a column from a `DataFrame` using the bracket operator, with a string as the key."
   ]
  },
  {
   "cell_type": "code",
   "execution_count": 58,
   "metadata": {},
   "outputs": [
    {
     "data": {
      "text/plain": [
       "pandas.core.series.Series"
      ]
     },
     "execution_count": 58,
     "metadata": {},
     "output_type": "execute_result"
    }
   ],
   "source": [
    "pounds = nsfg['BIRTHWGT_LB1']\n",
    "type(pounds)"
   ]
  },
  {
   "attachments": {},
   "cell_type": "markdown",
   "metadata": {},
   "source": [
    "The result is a `Series`, which is a Pandas type that represents a single column of data.\n",
    "In this case the `Series` contains the birth weight, in pounds, for each live birth.\n",
    "\n",
    "`head` shows the first five values in the `Series`, the name of the `Series`, and the data type:"
   ]
  },
  {
   "cell_type": "code",
   "execution_count": 59,
   "metadata": {},
   "outputs": [
    {
     "data": {
      "text/plain": [
       "0    7.0\n",
       "1    NaN\n",
       "2    9.0\n",
       "3    6.0\n",
       "4    7.0\n",
       "Name: BIRTHWGT_LB1, dtype: float64"
      ]
     },
     "execution_count": 59,
     "metadata": {},
     "output_type": "execute_result"
    }
   ],
   "source": [
    "pounds.head()"
   ]
  },
  {
   "attachments": {},
   "cell_type": "markdown",
   "metadata": {},
   "source": [
    "One of the values is `NaN`, which stands for \"Not a Number\".\n",
    "`NaN` is a special value used to indicate invalid or missing data.\n",
    "In this example, the pregnancy did not end in live birth, so birth weight is inapplicable."
   ]
  },
  {
   "attachments": {},
   "cell_type": "markdown",
   "metadata": {},
   "source": [
    "**Exercise:**  The variable `BIRTHWGT_OZ1` contains the ounces part of birth weight.\n",
    "\n",
    "Select the column `'BIRTHWGT_OZ1'` from the `nsfg` `DataFrame` and assign it to a new variable called `ounces`.  Then display the first 5 elements of `ounces`."
   ]
  },
  {
   "cell_type": "code",
   "execution_count": 60,
   "metadata": {},
   "outputs": [
    {
     "data": {
      "text/plain": [
       "0    8.0\n",
       "1    NaN\n",
       "2    2.0\n",
       "3    9.0\n",
       "4    0.0\n",
       "Name: BIRTHWGT_OZ1, dtype: float64"
      ]
     },
     "execution_count": 60,
     "metadata": {},
     "output_type": "execute_result"
    }
   ],
   "source": [
    "ounces = nsfg['BIRTHWGT_OZ1']\n",
    "ounces.head()"
   ]
  },
  {
   "attachments": {},
   "cell_type": "markdown",
   "metadata": {},
   "source": [
    "**Exercise:** The Pandas types we have seen so far are `DataFrame`, `Index`, and `Series`.  You can find the documentation of these types at:\n",
    "\n",
    "* `DataFrame`: <https://pandas.pydata.org/pandas-docs/stable/reference/api/pandas.DataFrame.html>\n",
    "\n",
    "* `Index`: <https://pandas.pydata.org/pandas-docs/stable/reference/api/pandas.Index.html>\n",
    "\n",
    "* `Series`: <https://pandas.pydata.org/pandas-docs/stable/reference/api/pandas.Series.html>\n",
    "\n",
    "This documentation can be overwhelming; I don't recommend trying to read it all now.  But you might want to skim it so you know where to look later."
   ]
  },
  {
   "attachments": {},
   "cell_type": "markdown",
   "metadata": {},
   "source": [
    "## Validation\n",
    "\n",
    "At this point we have identified the columns we need to answer the question and assigned them to variables named `pounds` and `ounces`."
   ]
  },
  {
   "cell_type": "code",
   "execution_count": 61,
   "metadata": {},
   "outputs": [],
   "source": [
    "pounds = nsfg['BIRTHWGT_LB1']\n",
    "ounces = nsfg['BIRTHWGT_OZ1']"
   ]
  },
  {
   "attachments": {},
   "cell_type": "markdown",
   "metadata": {},
   "source": [
    "Before we do anything with this data, we have to validate it.  One part of validation is confirming that we are interpreting the data correctly.\n",
    "\n",
    "We can use the `value_counts` method to see what values appear in `pounds` and how many times each value appears."
   ]
  },
  {
   "cell_type": "code",
   "execution_count": 62,
   "metadata": {
    "tags": []
   },
   "outputs": [
    {
     "data": {
      "text/plain": [
       "BIRTHWGT_LB1\n",
       "7.0     2268\n",
       "6.0     1644\n",
       "8.0     1287\n",
       "5.0      570\n",
       "9.0      396\n",
       "4.0      179\n",
       "99.0      89\n",
       "10.0      82\n",
       "3.0       76\n",
       "2.0       46\n",
       "1.0       28\n",
       "11.0      17\n",
       "0.0        2\n",
       "12.0       2\n",
       "98.0       2\n",
       "13.0       1\n",
       "14.0       1\n",
       "Name: count, dtype: int64"
      ]
     },
     "execution_count": 62,
     "metadata": {},
     "output_type": "execute_result"
    }
   ],
   "source": [
    "pounds.value_counts()"
   ]
  },
  {
   "attachments": {},
   "cell_type": "markdown",
   "metadata": {},
   "source": [
    "By default, the results are sorted with the most frequent value first, but we can use `sort_index` to sort them by value instead, with the lightest babies first and heaviest babies last."
   ]
  },
  {
   "cell_type": "code",
   "execution_count": 63,
   "metadata": {},
   "outputs": [
    {
     "data": {
      "text/plain": [
       "BIRTHWGT_LB1\n",
       "0.0        2\n",
       "1.0       28\n",
       "2.0       46\n",
       "3.0       76\n",
       "4.0      179\n",
       "5.0      570\n",
       "6.0     1644\n",
       "7.0     2268\n",
       "8.0     1287\n",
       "9.0      396\n",
       "10.0      82\n",
       "11.0      17\n",
       "12.0       2\n",
       "13.0       1\n",
       "14.0       1\n",
       "98.0       2\n",
       "99.0      89\n",
       "Name: count, dtype: int64"
      ]
     },
     "execution_count": 63,
     "metadata": {},
     "output_type": "execute_result"
    }
   ],
   "source": [
    "pounds.value_counts().sort_index()"
   ]
  },
  {
   "cell_type": "code",
   "execution_count": 64,
   "metadata": {},
   "outputs": [
    {
     "data": {
      "text/plain": [
       "2863"
      ]
     },
     "execution_count": 64,
     "metadata": {},
     "output_type": "execute_result"
    }
   ],
   "source": [
    "sum(pounds.isnull())"
   ]
  },
  {
   "attachments": {},
   "cell_type": "markdown",
   "metadata": {},
   "source": [
    "As we'd expect, the most frequent values are 6-8 pounds, but there are some very light babies, a few very heavy babies, and two special values, 98, and 99.  According to the codebook, these values indicate that the respondent declined to answer the question (98) or did not know (99).\n",
    "\n",
    "We can validate the results by comparing them to the codebook, which lists the values and their frequencies.\n",
    "\n",
    "\n",
    "| value | label          | Total |\n",
    "|-------|----------------|-------|\n",
    "| .     | INAPPLICABLE   | 2863 |\n",
    "| 0-5   | UNDER 6 POUNDS | 901 |\n",
    "| 6     | 6 POUNDS       | 1644 |\n",
    "| 7     | 7 POUNDS       | 2268 |\n",
    "| 8     | 8 POUNDS       | 1287 |\n",
    "| 9-95  | 9 POUNDS OR MORE | 499 |\n",
    "| 98    | Refused          | 2 |\n",
    "| 99    | Don't know       | 89 |\n",
    "|       | Total            | 9553 |\n",
    "\n",
    "\n",
    "The results from `value_counts` agree with the codebook, so we have some confidence that we are reading and interpreting the data correctly."
   ]
  },
  {
   "attachments": {},
   "cell_type": "markdown",
   "metadata": {},
   "source": [
    "**Exercise:** In the `nsfg` `DataFrame`, the column `'OUTCOME'` encodes the outcome of each pregnancy as shown below:\n",
    "\n",
    "| Value | Meaning |\n",
    "|---|---|\n",
    "| 1  | Live birth |\n",
    "| 2  | Induced abortion |\n",
    "| 3  | Stillbirth | \n",
    "| 4  | Miscarriage |\n",
    "| 5  | Ectopic pregnancy |\n",
    "| 6  | Current pregnancy |\n",
    "\n",
    "Use `value_counts` to display the values in this column and how many times each value appears.  Are the results consistent with the codebook?"
   ]
  },
  {
   "cell_type": "code",
   "execution_count": 65,
   "metadata": {},
   "outputs": [
    {
     "data": {
      "text/plain": [
       "OUTCOME\n",
       "1    6693\n",
       "2     901\n",
       "3     120\n",
       "4    1515\n",
       "5     123\n",
       "6     201\n",
       "Name: count, dtype: int64"
      ]
     },
     "execution_count": 65,
     "metadata": {},
     "output_type": "execute_result"
    }
   ],
   "source": [
    "nsfg['OUTCOME'].value_counts().sort_index()"
   ]
  },
  {
   "attachments": {},
   "cell_type": "markdown",
   "metadata": {},
   "source": [
    "## Summary Statistics\n",
    "\n",
    "Another way to validate the data is with `describe`, which computes statistics that summarize the data, like the mean, standard deviation, minimum, and maximum.\n",
    "\n",
    "Here are the results for `pounds`.  "
   ]
  },
  {
   "cell_type": "code",
   "execution_count": 66,
   "metadata": {},
   "outputs": [
    {
     "data": {
      "text/plain": [
       "count    6690.000000\n",
       "mean        8.008819\n",
       "std        10.771360\n",
       "min         0.000000\n",
       "25%         6.000000\n",
       "50%         7.000000\n",
       "75%         8.000000\n",
       "max        99.000000\n",
       "Name: BIRTHWGT_LB1, dtype: float64"
      ]
     },
     "execution_count": 66,
     "metadata": {},
     "output_type": "execute_result"
    }
   ],
   "source": [
    "pounds.describe()"
   ]
  },
  {
   "attachments": {},
   "cell_type": "markdown",
   "metadata": {},
   "source": [
    "`count` is the number of values, not including `NaN`.\n",
    "For this variable, there are 6690 value that are not `NaN`.\n",
    "\n",
    "`mean` and `std` are the mean and standard deviation.\n",
    "`min` and `max` are the minimum and maximum values, and in between are the 25th, 50th, and 75th percentiles.  The 50th percentile is the median.\n",
    "\n",
    "The mean is about `8.05`, but that doesn't mean much because it includes the special values 98 and 99.  Before we can really compute the mean, we have to replace those values with `NaN` to identify them as missing data.\n",
    "\n",
    "The `replace()` method does what we want:"
   ]
  },
  {
   "cell_type": "code",
   "execution_count": 67,
   "metadata": {},
   "outputs": [],
   "source": [
    "import numpy as np\n",
    "\n",
    "pounds_clean = pounds.replace([98, 99], np.nan)"
   ]
  },
  {
   "attachments": {},
   "cell_type": "markdown",
   "metadata": {},
   "source": [
    "`replace` takes a list of the values we want to replace and the value we want to replace them with.  `np.nan` means we are getting the special value `NaN` from the NumPy library, which is imported as `np`.\n",
    "\n",
    "The result from `replace()` is a new `Series`, which I assign to `pounds_clean`.\n",
    "If we run `describe` again, we see that `count` is smaller now because it includes only the valid values."
   ]
  },
  {
   "cell_type": "code",
   "execution_count": 68,
   "metadata": {},
   "outputs": [
    {
     "data": {
      "text/plain": [
       "count    6599.000000\n",
       "mean        6.754357\n",
       "std         1.383268\n",
       "min         0.000000\n",
       "25%         6.000000\n",
       "50%         7.000000\n",
       "75%         8.000000\n",
       "max        14.000000\n",
       "Name: BIRTHWGT_LB1, dtype: float64"
      ]
     },
     "execution_count": 68,
     "metadata": {},
     "output_type": "execute_result"
    }
   ],
   "source": [
    "pounds_clean.describe()"
   ]
  },
  {
   "attachments": {},
   "cell_type": "markdown",
   "metadata": {},
   "source": [
    "The mean of the new `Series` is about 6.7 pounds.\n",
    "Remember that the mean of the original `Series` was more than 8 pounds.\n",
    "It makes a big difference when you remove a few 99-pound babies!"
   ]
  },
  {
   "attachments": {},
   "cell_type": "markdown",
   "metadata": {},
   "source": [
    "**Exercise:** Use `describe` to summarize `ounces`.  \n",
    "Then use `replace` to replace the special values 98 and 99 with NaN, and assign the result to `ounces_clean`.\n",
    "Run `describe` again.  How much does this cleaning affect the results?"
   ]
  },
  {
   "cell_type": "code",
   "execution_count": 69,
   "metadata": {},
   "outputs": [
    {
     "data": {
      "text/plain": [
       "count    6601.000000\n",
       "mean        7.642327\n",
       "std         9.907332\n",
       "min         0.000000\n",
       "25%         3.000000\n",
       "50%         7.000000\n",
       "75%        11.000000\n",
       "max        99.000000\n",
       "Name: BIRTHWGT_OZ1, dtype: float64"
      ]
     },
     "execution_count": 69,
     "metadata": {},
     "output_type": "execute_result"
    }
   ],
   "source": [
    "ounces.describe()"
   ]
  },
  {
   "cell_type": "code",
   "execution_count": 70,
   "metadata": {},
   "outputs": [],
   "source": [
    "ounces_clean = ounces.replace(99, np.nan)"
   ]
  },
  {
   "cell_type": "code",
   "execution_count": 71,
   "metadata": {},
   "outputs": [
    {
     "data": {
      "text/plain": [
       "count    6542.000000\n",
       "mean        6.818404\n",
       "std         4.804005\n",
       "min         0.000000\n",
       "25%         3.000000\n",
       "50%         7.000000\n",
       "75%        11.000000\n",
       "max        98.000000\n",
       "Name: BIRTHWGT_OZ1, dtype: float64"
      ]
     },
     "execution_count": 71,
     "metadata": {},
     "output_type": "execute_result"
    }
   ],
   "source": [
    "ounces_clean.describe()"
   ]
  },
  {
   "attachments": {},
   "cell_type": "markdown",
   "metadata": {},
   "source": [
    "## Series Arithmetic\n",
    "\n",
    "Now we want to combine `pounds` and `ounces` into a single `Series` that contains total birth weight.\n",
    "Arithmetic operators work with `Series` objects; so, for example, to convert `pounds` to ounces, we could write\n",
    "\n",
    "`pounds * 16`\n",
    "\n",
    "Then we could add in `ounces` like this\n",
    "\n",
    "`pounds * 16 + ounces`"
   ]
  },
  {
   "attachments": {},
   "cell_type": "markdown",
   "metadata": {},
   "source": [
    "**Exercise:** Use `pounds_clean` and `ounces_clean` to compute the total birth weight expressed in kilograms (there are roughly 2.2 pounds per kilogram).  What is the mean birth weight in kilograms?"
   ]
  },
  {
   "cell_type": "code",
   "execution_count": 72,
   "metadata": {},
   "outputs": [
    {
     "data": {
      "text/plain": [
       "0       3.409091\n",
       "1            NaN\n",
       "2       4.147727\n",
       "3       2.982955\n",
       "4       3.181818\n",
       "          ...   \n",
       "9548    3.238636\n",
       "9549         NaN\n",
       "9550    3.977273\n",
       "9551    3.096591\n",
       "9552         NaN\n",
       "Length: 9553, dtype: float64"
      ]
     },
     "execution_count": 72,
     "metadata": {},
     "output_type": "execute_result"
    }
   ],
   "source": [
    "(((pounds * 16) + ounces) / 16) / 2.2"
   ]
  },
  {
   "attachments": {},
   "cell_type": "markdown",
   "metadata": {},
   "source": [
    "**Exercise:** For each pregnancy in the NSFG dataset, the variable `'AGECON'` encodes the respondent's age at conception, and `'AGEPREG'` the respondent's age at the end of the pregnancy.\n",
    "\n",
    "- Read the documentation of these variables.  Are there any special values we have to deal with?\n",
    "\n",
    "- Select `'AGECON'` and `'AGEPREG'` and assign them to variables named `agecon` and `agepreg`.\n",
    "\n",
    "- Compute the difference, which is an estimate of the duration of the pregnancy.\n",
    "\n",
    "- Use `.describe()` to compute the mean duration and other summary statistics.\n",
    "\n",
    "Based on the results, it seems like this might not be a good way to estimate the duration of pregnancy. Why not?"
   ]
  },
  {
   "cell_type": "code",
   "execution_count": 73,
   "metadata": {},
   "outputs": [],
   "source": [
    "agecon = nsfg['AGECON']\n",
    "agepreg = nsfg['AGEPREG']"
   ]
  },
  {
   "cell_type": "code",
   "execution_count": 74,
   "metadata": {},
   "outputs": [
    {
     "data": {
      "text/plain": [
       "count    9352.000000\n",
       "mean        0.554855\n",
       "std         0.497008\n",
       "min         0.000000\n",
       "25%         0.000000\n",
       "50%         1.000000\n",
       "75%         1.000000\n",
       "max         1.000000\n",
       "dtype: float64"
      ]
     },
     "execution_count": 74,
     "metadata": {},
     "output_type": "execute_result"
    }
   ],
   "source": [
    "durations = agepreg - agecon\n",
    "durations.describe()"
   ]
  },
  {
   "attachments": {},
   "cell_type": "markdown",
   "metadata": {},
   "source": [
    "## Histograms\n",
    "\n",
    "Let's get back to the original question: what is the average birth weight for babies in the U.S.?  \n",
    "As an answer we *could* take the results from the previous section and compute the mean:"
   ]
  },
  {
   "cell_type": "code",
   "execution_count": 75,
   "metadata": {},
   "outputs": [
    {
     "data": {
      "text/plain": [
       "7.180217889908257"
      ]
     },
     "execution_count": 75,
     "metadata": {},
     "output_type": "execute_result"
    }
   ],
   "source": [
    "pounds_clean = pounds.replace([98, 99], np.nan)\n",
    "ounces_clean = ounces.replace([98, 99], np.nan)\n",
    "\n",
    "birth_weight = pounds_clean + ounces_clean / 16\n",
    "birth_weight.mean()"
   ]
  },
  {
   "attachments": {},
   "cell_type": "markdown",
   "metadata": {},
   "source": [
    "But it is risky to compute a summary statistic, like the mean, before we look at the whole distribution of values.\n",
    "\n",
    "A **distribution** is a set of possible values and their frequencies.  One way to visualize a distribution is a **histogram**, which shows values on the `x` axis and their frequencies on the `y` axis.\n",
    "\n",
    "`Series` provides a `hist` method that makes histograms.\n",
    "And we can use Matplotlib to label the axes."
   ]
  },
  {
   "cell_type": "code",
   "execution_count": 77,
   "metadata": {},
   "outputs": [
    {
     "data": {
      "image/png": "[encoded data removed]",
      "text/plain": [
       "<Figure size 640x480 with 1 Axes>"
      ]
     },
     "metadata": {},
     "output_type": "display_data"
    }
   ],
   "source": [
    "import matplotlib.pyplot as plt\n",
    "\n",
    "birth_weight.hist(bins=30)\n",
    "plt.xlabel('Birth weight in pounds')\n",
    "plt.ylabel('Number of live births')\n",
    "plt.title('Distribution of U.S. birth weight');"
   ]
  },
  {
   "attachments": {},
   "cell_type": "markdown",
   "metadata": {},
   "source": [
    "The keyword argument, `bins`, tells `hist` to divide the range of weights into 30 intervals, called **bins**, and count how many values fall in each bin.\n",
    "The `x` axis is birth weight in pounds; the `y` axis is the number of births in each bin.\n",
    "\n",
    "The distribution looks a little like a bell curve, but the tail is longer on the left than on the right; that is, there are more light babies than heavy babies.\n",
    "That makes sense, because the distribution includes some babies that were born preterm.  "
   ]
  },
  {
   "attachments": {},
   "cell_type": "markdown",
   "metadata": {},
   "source": [
    "**Exercise:** `hist` takes keyword arguments that specify the type and appearance of the histogram.  Find the documentation of `hist` and see if you can figure out how to plot the histogram as an unfilled line against a background with no grid lines."
   ]
  },
  {
   "cell_type": "code",
   "execution_count": 85,
   "metadata": {},
   "outputs": [
    {
     "data": {
      "image/png": "[encoded data removed]",
      "text/plain": [
       "<Figure size 640x480 with 1 Axes>"
      ]
     },
     "metadata": {},
     "output_type": "display_data"
    }
   ],
   "source": [
    "birth_weight.hist(bins=30, grid=False, histtype='step')\n",
    "plt.xlabel('Birth weight in pounds')\n",
    "plt.ylabel('Number of live births')\n",
    "plt.title('Distribution of U.S. birth weight');"
   ]
  },
  {
   "attachments": {},
   "cell_type": "markdown",
   "metadata": {},
   "source": [
    "**Exercise:** As we saw in a previous exercise, the NSFG dataset includes a column called `AGECON` that records age at conception for each pregnancy. \n",
    "\n",
    "- Select this column from the `DataFrame` and plot the histogram of the values with 20 bins.\n",
    "\n",
    "- Label the `x` and `y` axes appropriately."
   ]
  },
  {
   "cell_type": "code",
   "execution_count": 87,
   "metadata": {},
   "outputs": [
    {
     "data": {
      "image/png": "[encoded data removed]",
      "text/plain": [
       "<Figure size 640x480 with 1 Axes>"
      ]
     },
     "metadata": {},
     "output_type": "display_data"
    }
   ],
   "source": [
    "agecon = nsfg['AGECON']\n",
    "agecon.hist(bins=20)\n",
    "plt.xlabel('Age at Conception')\n",
    "plt.ylabel('Number of live births')\n",
    "plt.title('Distribution of Age at Conception');"
   ]
  },
  {
   "attachments": {},
   "cell_type": "markdown",
   "metadata": {},
   "source": [
    "## Boolean Series\n",
    "\n",
    "We have seen that the distribution of birth weights is **skewed** to the left; that is, there are more light babies than heavy ones and they are farther from the mean.\n",
    "That's because preterm babies tend to be lighter.  The most common duration for pregnancy is 39 weeks, which is \"full term\"; \"preterm\" is usually defined to be less than 37 weeks.\n",
    "\n",
    "To see which babies are preterm, we can use `PRGLNGTH`, which records pregnancy length in weeks and compute it to `37`."
   ]
  },
  {
   "cell_type": "code",
   "execution_count": 88,
   "metadata": {},
   "outputs": [
    {
     "data": {
      "text/plain": [
       "dtype('bool')"
      ]
     },
     "execution_count": 88,
     "metadata": {},
     "output_type": "execute_result"
    }
   ],
   "source": [
    "preterm = (nsfg['PRGLNGTH'] < 37)\n",
    "preterm.dtype"
   ]
  },
  {
   "attachments": {},
   "cell_type": "markdown",
   "metadata": {},
   "source": [
    "When you compare a `Series` to a value, the result is a Boolean `Series`; that is, a `Series` where each element is a Boolean value, `True` or `False`.  In this case, it's `True` for each preterm baby and `False` otherwise.  We can use `head` to see the first 5 elements."
   ]
  },
  {
   "cell_type": "code",
   "execution_count": 89,
   "metadata": {},
   "outputs": [
    {
     "data": {
      "text/plain": [
       "0    False\n",
       "1     True\n",
       "2    False\n",
       "3    False\n",
       "4    False\n",
       "Name: PRGLNGTH, dtype: bool"
      ]
     },
     "execution_count": 89,
     "metadata": {},
     "output_type": "execute_result"
    }
   ],
   "source": [
    "preterm.head()"
   ]
  },
  {
   "attachments": {},
   "cell_type": "markdown",
   "metadata": {},
   "source": [
    "If you compute the sum of a Boolean `Series`, it treats `True` as 1 and `False` as 0, so the sum is the number of `True` values, which is the number of preterm babies."
   ]
  },
  {
   "cell_type": "code",
   "execution_count": 90,
   "metadata": {},
   "outputs": [
    {
     "data": {
      "text/plain": [
       "3675"
      ]
     },
     "execution_count": 90,
     "metadata": {},
     "output_type": "execute_result"
    }
   ],
   "source": [
    "preterm.sum()"
   ]
  },
  {
   "attachments": {},
   "cell_type": "markdown",
   "metadata": {},
   "source": [
    "If you compute the mean of a Boolean `Series`, you get the *fraction* of `True` values.\n",
    "In this case, it's about 0.38; that is, about 38% of the pregnancies are less than 37 weeks."
   ]
  },
  {
   "cell_type": "code",
   "execution_count": 91,
   "metadata": {},
   "outputs": [
    {
     "data": {
      "text/plain": [
       "0.38469590704490736"
      ]
     },
     "execution_count": 91,
     "metadata": {},
     "output_type": "execute_result"
    }
   ],
   "source": [
    "preterm.mean()"
   ]
  },
  {
   "attachments": {},
   "cell_type": "markdown",
   "metadata": {},
   "source": [
    "However, this result might be misleading because it includes all pregnancy outcomes, not just live births.\n",
    "We can create another Boolean `Series` to indicate which pregnancies ended in live birth:"
   ]
  },
  {
   "cell_type": "code",
   "execution_count": 92,
   "metadata": {},
   "outputs": [
    {
     "data": {
      "text/plain": [
       "0.7006176070344394"
      ]
     },
     "execution_count": 92,
     "metadata": {},
     "output_type": "execute_result"
    }
   ],
   "source": [
    "live = (nsfg['OUTCOME'] == 1)\n",
    "live.mean()"
   ]
  },
  {
   "attachments": {},
   "cell_type": "markdown",
   "metadata": {},
   "source": [
    "Now we can use the operator `&`, which represents the logical AND operation, to identify pregnancies where the outcome is a live birth and preterm: "
   ]
  },
  {
   "cell_type": "code",
   "execution_count": 93,
   "metadata": {},
   "outputs": [
    {
     "data": {
      "text/plain": [
       "0.08929132209777034"
      ]
     },
     "execution_count": 93,
     "metadata": {},
     "output_type": "execute_result"
    }
   ],
   "source": [
    "live_preterm = (live & preterm)\n",
    "live_preterm.mean()"
   ]
  },
  {
   "attachments": {},
   "cell_type": "markdown",
   "metadata": {},
   "source": [
    "About 9% of all pregnancies resulted in a preterm live birth."
   ]
  },
  {
   "attachments": {},
   "cell_type": "markdown",
   "metadata": {},
   "source": [
    "**Exercise:** Of all live births, what fraction are preterm?"
   ]
  },
  {
   "cell_type": "code",
   "execution_count": 95,
   "metadata": {},
   "outputs": [
    {
     "data": {
      "text/plain": [
       "0.12744658598535782"
      ]
     },
     "execution_count": 95,
     "metadata": {},
     "output_type": "execute_result"
    }
   ],
   "source": [
    "sum(live_preterm) / sum(live)"
   ]
  },
  {
   "attachments": {},
   "cell_type": "markdown",
   "metadata": {},
   "source": [
    "The other common logical operators are:\n",
    "    \n",
    "* `|`, which represents the logical OR operation; for example `live | preterm` is true if either `live` is true, or `preterm` is true, or both.\n",
    "\n",
    "* `~`, which represents the logical NOT operation; for example `~live` is true if `live` is false or `NaN`.\n",
    "\n",
    "The logical operators treat `NaN` the same as `False`, so you should be careful about using the NOT operator with a Series that contains `NaN` values.\n",
    "For example, `~preterm` would include not just full term pregnancies, but also pregnancies with unknown length."
   ]
  },
  {
   "attachments": {},
   "cell_type": "markdown",
   "metadata": {},
   "source": [
    "**Exercise:** Of all pregnancies, what fraction are full term, that is, 37 weeks or more?\n",
    "Of all live births, what fraction are full term?"
   ]
  },
  {
   "cell_type": "code",
   "execution_count": 102,
   "metadata": {},
   "outputs": [
    {
     "data": {
      "text/plain": [
       "0.6153040929550927"
      ]
     },
     "execution_count": 102,
     "metadata": {},
     "output_type": "execute_result"
    }
   ],
   "source": [
    "full_term = (nsfg['PRGLNGTH'] >= 37)\n",
    "full_term.mean()"
   ]
  },
  {
   "cell_type": "code",
   "execution_count": 104,
   "metadata": {},
   "outputs": [
    {
     "data": {
      "text/plain": [
       "0.878230987598984"
      ]
     },
     "execution_count": 104,
     "metadata": {},
     "output_type": "execute_result"
    }
   ],
   "source": [
    "sum(full_term) / sum(live)"
   ]
  },
  {
   "cell_type": "code",
   "execution_count": 109,
   "metadata": {},
   "outputs": [],
   "source": [
    "full_term_and_live = (nsfg['PRGLNGTH'] >= 37) & (nsfg['OUTCOME'] == 1)"
   ]
  },
  {
   "cell_type": "code",
   "execution_count": 110,
   "metadata": {},
   "outputs": [
    {
     "data": {
      "text/plain": [
       "0.8725534140146421"
      ]
     },
     "execution_count": 110,
     "metadata": {},
     "output_type": "execute_result"
    }
   ],
   "source": [
    "sum(full_term_and_live) / sum(live)"
   ]
  },
  {
   "attachments": {},
   "cell_type": "markdown",
   "metadata": {},
   "source": [
    "## Filtering Data\n",
    "\n",
    "We can use a Boolean `Series` as a filter; that is, we can select only rows that satisfy a condition or meet some criterion.\n",
    "For example, we can use `preterm` and the bracket operator to select values from `birth_weight`, so `preterm_weight` gets birth weights for preterm babies. "
   ]
  },
  {
   "cell_type": "code",
   "execution_count": null,
   "metadata": {},
   "outputs": [],
   "source": [
    "preterm_weight = birth_weight[preterm]\n",
    "preterm_weight.mean()"
   ]
  },
  {
   "attachments": {},
   "cell_type": "markdown",
   "metadata": {},
   "source": [
    "To select full-term babies, we can create a Boolean `Series` like this:"
   ]
  },
  {
   "cell_type": "code",
   "execution_count": null,
   "metadata": {},
   "outputs": [],
   "source": [
    "fullterm = (nsfg['PRGLNGTH'] >= 37)"
   ]
  },
  {
   "attachments": {},
   "cell_type": "markdown",
   "metadata": {},
   "source": [
    "And use it to select birth weights for full term babies:"
   ]
  },
  {
   "cell_type": "code",
   "execution_count": null,
   "metadata": {},
   "outputs": [],
   "source": [
    "full_term_weight = birth_weight[fullterm]\n",
    "full_term_weight.mean()"
   ]
  },
  {
   "attachments": {},
   "cell_type": "markdown",
   "metadata": {},
   "source": [
    "As expected, full term babies are heavier, on average, than preterm babies.\n",
    "To be more explicit, we could also limit the results to live births, like this:"
   ]
  },
  {
   "cell_type": "code",
   "execution_count": null,
   "metadata": {},
   "outputs": [],
   "source": [
    "full_term_weight = birth_weight[live & fullterm]\n",
    "full_term_weight.mean()"
   ]
  },
  {
   "attachments": {},
   "cell_type": "markdown",
   "metadata": {},
   "source": [
    "But in this case we get the same result because `birth_weight` is only valid for live births."
   ]
  },
  {
   "attachments": {},
   "cell_type": "markdown",
   "metadata": {},
   "source": [
    "**Exercise:** Let's see if there is a difference in weight between single births and multiple births (twins, triplets, etc.).\n",
    "The variable `NBRNALIV` represents the number of babies born alive from a single pregnancy."
   ]
  },
  {
   "cell_type": "code",
   "execution_count": null,
   "metadata": {},
   "outputs": [],
   "source": [
    "nbrnaliv = nsfg['NBRNALIV']\n",
    "nbrnaliv.value_counts()"
   ]
  },
  {
   "attachments": {},
   "cell_type": "markdown",
   "metadata": {},
   "source": [
    "Use `nbrnaliv` and `live` to create a Boolean series called `multiple` that is true for multiple live births.\n",
    "Of all live births, what fraction are multiple births?"
   ]
  },
  {
   "cell_type": "code",
   "execution_count": null,
   "metadata": {},
   "outputs": [],
   "source": [
    "# Solution goes here"
   ]
  },
  {
   "cell_type": "code",
   "execution_count": null,
   "metadata": {},
   "outputs": [],
   "source": [
    "# Solution goes here"
   ]
  },
  {
   "attachments": {},
   "cell_type": "markdown",
   "metadata": {},
   "source": [
    "**Exercise:** Make a Boolean series called `single` that is true for single live births.\n",
    "Of all single births, what fraction are preterm?\n",
    "Of all multiple births, what fraction are preterm?"
   ]
  },
  {
   "cell_type": "code",
   "execution_count": null,
   "metadata": {},
   "outputs": [],
   "source": [
    "# Solution goes here"
   ]
  },
  {
   "cell_type": "code",
   "execution_count": null,
   "metadata": {},
   "outputs": [],
   "source": [
    "# Solution goes here"
   ]
  },
  {
   "cell_type": "code",
   "execution_count": null,
   "metadata": {},
   "outputs": [],
   "source": [
    "# Solution goes here"
   ]
  },
  {
   "attachments": {},
   "cell_type": "markdown",
   "metadata": {},
   "source": [
    "**Exercise:** What is the average birth weight for live, single, full-term births?"
   ]
  },
  {
   "cell_type": "code",
   "execution_count": null,
   "metadata": {},
   "outputs": [],
   "source": [
    "# Solution goes here"
   ]
  },
  {
   "attachments": {},
   "cell_type": "markdown",
   "metadata": {},
   "source": [
    "## Weighted Means\n",
    "\n",
    "We are almost done, but there's one more problem we have to solve: oversampling.\n",
    "\n",
    "The NSFG is not exactly representative of the U.S. population.  By design, some groups are more likely to appear in the sample than others; that is, they are **oversampled**.  Oversampling helps to ensure that you have enough people in every subgroup to get reliable statistics, but it makes data analysis a little more complicated.\n",
    "\n",
    "Each pregnancy in the dataset has a **sampling weight** that indicates how many pregnancies it represents.  In `nsfg`, the sampling weight is stored in a column named `wgt2015_2017`.\n",
    "Here's what it looks like."
   ]
  },
  {
   "cell_type": "code",
   "execution_count": null,
   "metadata": {},
   "outputs": [],
   "source": [
    "sampling_weight = nsfg['WGT2015_2017']\n",
    "sampling_weight.describe()"
   ]
  },
  {
   "attachments": {},
   "cell_type": "markdown",
   "metadata": {},
   "source": [
    "The median value (50th percentile) in this column is about 7292, which means that a pregnancy with that weight represents 7292 total pregnancies in the population.\n",
    "But the range of values is wide, so some rows represent many more pregnancies than others.\n",
    "\n",
    "To take these weights into account, we can compute a **weighted mean**.  Here are the steps:\n",
    "\n",
    "1. Multiply the birth weights for each pregnancy by the sampling weights and add up the products.\n",
    "\n",
    "2. Add up the sampling weights.\n",
    "\n",
    "3. Divide the first sum by the second.\n",
    "\n",
    "To do this correctly, we have to be careful with missing data.\n",
    "To help with that, we'll use two `Series` methods, `isna` and `notna`.\n",
    "\n",
    "`isna` returns a Boolean `Series` that is `True` where the corresponding value is `NaN`."
   ]
  },
  {
   "cell_type": "code",
   "execution_count": null,
   "metadata": {},
   "outputs": [],
   "source": [
    "missing = birth_weight.isna()\n",
    "missing.sum()"
   ]
  },
  {
   "attachments": {},
   "cell_type": "markdown",
   "metadata": {},
   "source": [
    "In `birth_weight` there are 3013 missing values (mostly for pregnancies that did not end in live birth).\n",
    "\n",
    "`notna` returns a Boolean `Series` that is `True` where the corresponding value is *not* `NaN`."
   ]
  },
  {
   "cell_type": "code",
   "execution_count": null,
   "metadata": {},
   "outputs": [],
   "source": [
    "valid = birth_weight.notna()\n",
    "valid.sum()"
   ]
  },
  {
   "attachments": {},
   "cell_type": "markdown",
   "metadata": {},
   "source": [
    "We can combine `valid` with the other Boolean `Series` we have computed to identify single, full term, live births with valid birth weights."
   ]
  },
  {
   "cell_type": "code",
   "execution_count": null,
   "metadata": {},
   "outputs": [],
   "source": [
    "single = (nbrnaliv == 1)\n",
    "selected = valid & live & single & fullterm\n",
    "selected.sum()"
   ]
  },
  {
   "attachments": {},
   "cell_type": "markdown",
   "metadata": {},
   "source": [
    "You can finish off this computation as an exercise."
   ]
  },
  {
   "attachments": {},
   "cell_type": "markdown",
   "metadata": {},
   "source": [
    "**Exercise:** Use `selected`, `birth_weight`, and `sampling_weight` to compute the weighted mean of birth weight for live, single, full term births.\n",
    "\n",
    "You should find that the weighted mean is a little higher than the unweighted mean we computed in the previous section.  That's because the groups that are oversampled in the NSFG tend to have lighter babies, on average."
   ]
  },
  {
   "cell_type": "code",
   "execution_count": null,
   "metadata": {},
   "outputs": [],
   "source": [
    "# Solution goes here"
   ]
  },
  {
   "cell_type": "code",
   "execution_count": null,
   "metadata": {},
   "outputs": [],
   "source": [
    "# Solution goes here"
   ]
  },
  {
   "attachments": {},
   "cell_type": "markdown",
   "metadata": {},
   "source": [
    "## Summary\n",
    "\n",
    "This chapter poses what seems like a simple question: what is the average birth weight of babies in the United States?\n",
    "\n",
    "To answer it, we found an appropriate dataset and read the files.  Then we validated the data and dealt with special values, missing data, and errors.\n",
    "To explore the data, we used `value_counts`, `hist`, `describe`, and other Pandas methods.\n",
    "And to select relevant data, we used Boolean `Series`.\n",
    "\n",
    "Along the way, we had to think more about the question.  What do we mean by \"average\", and which babies should we include?  Should we include all live births or exclude preterm babies or multiple births?\n",
    "\n",
    "And we had to think about the sampling process.  By design, the NSFG respondents are not representative of the U.S. population, but we can use sampling weights to correct for this effect.\n",
    "\n",
    "Even a simple question can be a challenging data science project."
   ]
  },
  {
   "attachments": {},
   "cell_type": "markdown",
   "metadata": {
    "tags": []
   },
   "source": [
    "*Elements of Data Science*\n",
    "\n",
    "Copyright 2021 [Allen B. Downey](https://allendowney.com)\n",
    "\n",
    "License: [Creative Commons Attribution-NonCommercial-ShareAlike 4.0 International](https://creativecommons.org/licenses/by-nc-sa/4.0/)"
   ]
  }
 ],
 "metadata": {
  "celltoolbar": "Tags",
  "kernelspec": {
   "display_name": "Python 3 (ipykernel)",
   "language": "python",
   "name": "python3"
  },
  "language_info": {
   "codemirror_mode": {
    "name": "ipython",
    "version": 3
   },
   "file_extension": ".py",
   "mimetype": "text/x-python",
   "name": "python",
   "nbconvert_exporter": "python",
   "pygments_lexer": "ipython3",
   "version": "3.8.10"
  }
 },
 "nbformat": 4,
 "nbformat_minor": 2
}
